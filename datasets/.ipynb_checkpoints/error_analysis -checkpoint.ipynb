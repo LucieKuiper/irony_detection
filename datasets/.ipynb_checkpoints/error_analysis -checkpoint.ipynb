{
 "cells": [
  {
   "cell_type": "code",
   "execution_count": 1,
   "metadata": {},
   "outputs": [],
   "source": [
    "import pandas as pd\n",
    "# goldstandard \n",
    "gold = pd.read_csv('./goldtest_TaskA/SemEval2018-T3_gold_test_taskA_emoji.txt', sep='\\t')"
   ]
  },
  {
   "cell_type": "code",
   "execution_count": 2,
   "metadata": {},
   "outputs": [
    {
     "data": {
      "text/html": [
       "<div>\n",
       "<style scoped>\n",
       "    .dataframe tbody tr th:only-of-type {\n",
       "        vertical-align: middle;\n",
       "    }\n",
       "\n",
       "    .dataframe tbody tr th {\n",
       "        vertical-align: top;\n",
       "    }\n",
       "\n",
       "    .dataframe thead th {\n",
       "        text-align: right;\n",
       "    }\n",
       "</style>\n",
       "<table border=\"1\" class=\"dataframe\">\n",
       "  <thead>\n",
       "    <tr style=\"text-align: right;\">\n",
       "      <th></th>\n",
       "      <th>Tweet index</th>\n",
       "      <th>Tweet text</th>\n",
       "    </tr>\n",
       "    <tr>\n",
       "      <th>Label</th>\n",
       "      <th></th>\n",
       "      <th></th>\n",
       "    </tr>\n",
       "  </thead>\n",
       "  <tbody>\n",
       "    <tr>\n",
       "      <th>0</th>\n",
       "      <td>473</td>\n",
       "      <td>473</td>\n",
       "    </tr>\n",
       "    <tr>\n",
       "      <th>1</th>\n",
       "      <td>311</td>\n",
       "      <td>311</td>\n",
       "    </tr>\n",
       "  </tbody>\n",
       "</table>\n",
       "</div>"
      ],
      "text/plain": [
       "       Tweet index  Tweet text\n",
       "Label                         \n",
       "0              473         473\n",
       "1              311         311"
      ]
     },
     "execution_count": 2,
     "metadata": {},
     "output_type": "execute_result"
    }
   ],
   "source": [
    "gold_labels = gold.groupby('Label').count()\n",
    "gold_labels"
   ]
  },
  {
   "cell_type": "code",
   "execution_count": 3,
   "metadata": {},
   "outputs": [],
   "source": [
    "answers_A = pd.read_csv('../../Task3/taskA/results/predictions-taskA.txt', header=None, names=['Label'], sep='\\n')\n",
    "answers_A = list(answers_A['Label'])"
   ]
  },
  {
   "cell_type": "code",
   "execution_count": 4,
   "metadata": {},
   "outputs": [],
   "source": [
    "ones = sum(1 for i in answers_A if i == 1)\n",
    "zeros = sum(1 for i in answers_A if i == 0)"
   ]
  },
  {
   "cell_type": "code",
   "execution_count": 5,
   "metadata": {},
   "outputs": [
    {
     "data": {
      "text/plain": [
       "(489, 295)"
      ]
     },
     "execution_count": 5,
     "metadata": {},
     "output_type": "execute_result"
    }
   ],
   "source": [
    "ones, zeros"
   ]
  },
  {
   "cell_type": "code",
   "execution_count": 17,
   "metadata": {},
   "outputs": [
    {
     "data": {
      "text/html": [
       "<div>\n",
       "<style scoped>\n",
       "    .dataframe tbody tr th:only-of-type {\n",
       "        vertical-align: middle;\n",
       "    }\n",
       "\n",
       "    .dataframe tbody tr th {\n",
       "        vertical-align: top;\n",
       "    }\n",
       "\n",
       "    .dataframe thead th {\n",
       "        text-align: right;\n",
       "    }\n",
       "</style>\n",
       "<table border=\"1\" class=\"dataframe\">\n",
       "  <thead>\n",
       "    <tr style=\"text-align: right;\">\n",
       "      <th></th>\n",
       "      <th>Tweet index</th>\n",
       "      <th>Label</th>\n",
       "      <th>Tweet text</th>\n",
       "    </tr>\n",
       "  </thead>\n",
       "  <tbody>\n",
       "    <tr>\n",
       "      <th>127</th>\n",
       "      <td>128</td>\n",
       "      <td>0</td>\n",
       "      <td>@GlenjiUTLR @JoshStevo95 To be fair, you didn'...</td>\n",
       "    </tr>\n",
       "    <tr>\n",
       "      <th>128</th>\n",
       "      <td>129</td>\n",
       "      <td>0</td>\n",
       "      <td>'I like the hope Jan Ellis writes with, the pr...</td>\n",
       "    </tr>\n",
       "    <tr>\n",
       "      <th>133</th>\n",
       "      <td>134</td>\n",
       "      <td>0</td>\n",
       "      <td>@YasminaBen1 please note #sarcasm in last twee...</td>\n",
       "    </tr>\n",
       "    <tr>\n",
       "      <th>162</th>\n",
       "      <td>163</td>\n",
       "      <td>0</td>\n",
       "      <td>This is definitely me! 😁|#me #sarcastic #sarca...</td>\n",
       "    </tr>\n",
       "    <tr>\n",
       "      <th>170</th>\n",
       "      <td>171</td>\n",
       "      <td>0</td>\n",
       "      <td>Oh dear, some people don't get #irony 😳</td>\n",
       "    </tr>\n",
       "    <tr>\n",
       "      <th>194</th>\n",
       "      <td>195</td>\n",
       "      <td>0</td>\n",
       "      <td>@JasminHadasah #sarcasm is a service I offer.</td>\n",
       "    </tr>\n",
       "    <tr>\n",
       "      <th>306</th>\n",
       "      <td>307</td>\n",
       "      <td>0</td>\n",
       "      <td>@jthurgood1 @Cameron_Gray republicans suck mor...</td>\n",
       "    </tr>\n",
       "    <tr>\n",
       "      <th>310</th>\n",
       "      <td>311</td>\n",
       "      <td>0</td>\n",
       "      <td>@Brice_Jones but you can't expect us to hire o...</td>\n",
       "    </tr>\n",
       "    <tr>\n",
       "      <th>316</th>\n",
       "      <td>317</td>\n",
       "      <td>0</td>\n",
       "      <td>#Warn them that your degree of #sarcasm depend...</td>\n",
       "    </tr>\n",
       "    <tr>\n",
       "      <th>356</th>\n",
       "      <td>357</td>\n",
       "      <td>0</td>\n",
       "      <td>@_Liam_Walker_ @TheOxfordMail A thief, a liar,...</td>\n",
       "    </tr>\n",
       "    <tr>\n",
       "      <th>376</th>\n",
       "      <td>377</td>\n",
       "      <td>0</td>\n",
       "      <td>Forgot to enter #sarcasm</td>\n",
       "    </tr>\n",
       "    <tr>\n",
       "      <th>389</th>\n",
       "      <td>390</td>\n",
       "      <td>0</td>\n",
       "      <td>Hey @Enasni, some of your geeky/nerdy follower...</td>\n",
       "    </tr>\n",
       "    <tr>\n",
       "      <th>398</th>\n",
       "      <td>399</td>\n",
       "      <td>0</td>\n",
       "      <td>I see the #irony of MY LAST 3 TWEETS COMBINED ...</td>\n",
       "    </tr>\n",
       "    <tr>\n",
       "      <th>524</th>\n",
       "      <td>525</td>\n",
       "      <td>0</td>\n",
       "      <td>@ArianaGicPerry Ahem... yeah.. something like ...</td>\n",
       "    </tr>\n",
       "    <tr>\n",
       "      <th>539</th>\n",
       "      <td>540</td>\n",
       "      <td>0</td>\n",
       "      <td>I have a very annoying bluetick for sale. 8 yr...</td>\n",
       "    </tr>\n",
       "    <tr>\n",
       "      <th>562</th>\n",
       "      <td>563</td>\n",
       "      <td>0</td>\n",
       "      <td>@holyroodmandy @jimmurphymp @scottishlabour pr...</td>\n",
       "    </tr>\n",
       "    <tr>\n",
       "      <th>577</th>\n",
       "      <td>578</td>\n",
       "      <td>0</td>\n",
       "      <td>@Espngreeny @espngolic \"pit players v. victims...</td>\n",
       "    </tr>\n",
       "    <tr>\n",
       "      <th>629</th>\n",
       "      <td>630</td>\n",
       "      <td>0</td>\n",
       "      <td>#farage a t1t in public who doesnt agree with ...</td>\n",
       "    </tr>\n",
       "    <tr>\n",
       "      <th>655</th>\n",
       "      <td>656</td>\n",
       "      <td>0</td>\n",
       "      <td>@TonyRohrs they've spread their positions off ...</td>\n",
       "    </tr>\n",
       "    <tr>\n",
       "      <th>742</th>\n",
       "      <td>743</td>\n",
       "      <td>0</td>\n",
       "      <td>@AfterGrogBlog #pantsdowntiggy was his crime. ...</td>\n",
       "    </tr>\n",
       "    <tr>\n",
       "      <th>774</th>\n",
       "      <td>775</td>\n",
       "      <td>0</td>\n",
       "      <td>Lol everyday excuse the language #relationship...</td>\n",
       "    </tr>\n",
       "  </tbody>\n",
       "</table>\n",
       "</div>"
      ],
      "text/plain": [
       "     Tweet index  Label                                         Tweet text\n",
       "127          128      0  @GlenjiUTLR @JoshStevo95 To be fair, you didn'...\n",
       "128          129      0  'I like the hope Jan Ellis writes with, the pr...\n",
       "133          134      0  @YasminaBen1 please note #sarcasm in last twee...\n",
       "162          163      0  This is definitely me! 😁|#me #sarcastic #sarca...\n",
       "170          171      0            Oh dear, some people don't get #irony 😳\n",
       "194          195      0      @JasminHadasah #sarcasm is a service I offer.\n",
       "306          307      0  @jthurgood1 @Cameron_Gray republicans suck mor...\n",
       "310          311      0  @Brice_Jones but you can't expect us to hire o...\n",
       "316          317      0  #Warn them that your degree of #sarcasm depend...\n",
       "356          357      0  @_Liam_Walker_ @TheOxfordMail A thief, a liar,...\n",
       "376          377      0                           Forgot to enter #sarcasm\n",
       "389          390      0  Hey @Enasni, some of your geeky/nerdy follower...\n",
       "398          399      0  I see the #irony of MY LAST 3 TWEETS COMBINED ...\n",
       "524          525      0  @ArianaGicPerry Ahem... yeah.. something like ...\n",
       "539          540      0  I have a very annoying bluetick for sale. 8 yr...\n",
       "562          563      0  @holyroodmandy @jimmurphymp @scottishlabour pr...\n",
       "577          578      0  @Espngreeny @espngolic \"pit players v. victims...\n",
       "629          630      0  #farage a t1t in public who doesnt agree with ...\n",
       "655          656      0  @TonyRohrs they've spread their positions off ...\n",
       "742          743      0  @AfterGrogBlog #pantsdowntiggy was his crime. ...\n",
       "774          775      0  Lol everyday excuse the language #relationship..."
      ]
     },
     "execution_count": 17,
     "metadata": {},
     "output_type": "execute_result"
    }
   ],
   "source": [
    "# find cases where the tweet contains sarcasm and irony, but it is labelled as 0\n",
    "gold.loc[(gold['Label'] == 0) & gold['Tweet text'].str.contains(\"sarcasm|irony\")]"
   ]
  },
  {
   "cell_type": "code",
   "execution_count": null,
   "metadata": {
    "collapsed": true
   },
   "outputs": [],
   "source": []
  }
 ],
 "metadata": {
  "kernelspec": {
   "display_name": "Python 3",
   "language": "python",
   "name": "python3"
  },
  "language_info": {
   "codemirror_mode": {
    "name": "ipython",
    "version": 3
   },
   "file_extension": ".py",
   "mimetype": "text/x-python",
   "name": "python",
   "nbconvert_exporter": "python",
   "pygments_lexer": "ipython3",
   "version": "3.6.3"
  }
 },
 "nbformat": 4,
 "nbformat_minor": 2
}
